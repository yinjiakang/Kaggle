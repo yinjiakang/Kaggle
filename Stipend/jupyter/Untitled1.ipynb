{
 "cells": [
  {
   "cell_type": "code",
   "execution_count": 1,
   "metadata": {
    "collapsed": false
   },
   "outputs": [
    {
     "name": "stdout",
     "output_type": "stream",
     "text": [
      "        coef                columns\n",
      "0   0.083986               CARD_CAT\n",
      "1   0.083214         CARD_SPEND_SUM\n",
      "2   0.109097        CARD_SPEND_MEAN\n",
      "3   0.013446         CARD_SPEND_STD\n",
      "4   0.054091      CARD_SPEND_MEDIAN\n",
      "5   0.080852     CARD_REMAINDER_SUM\n",
      "6   0.074481    CARD_REMAINDER_MEAN\n",
      "7   0.100406     CARD_REMAINDER_STD\n",
      "8   0.075061  CARD_REMAINDER_MEDIAN\n",
      "9   0.039509                COLLEGE\n",
      "10  0.108202                   RANK\n",
      "11  0.032674        COLLEGE_STU_NUM\n",
      "12  0.144980                  SCORE\n",
      "[ 0.65751544  0.697254    0.68512586  0.97437071  0.99015793]\n"
     ]
    }
   ],
   "source": [
    "%run ../src/main.py"
   ]
  },
  {
   "cell_type": "code",
   "execution_count": 2,
   "metadata": {
    "collapsed": false
   },
   "outputs": [
    {
     "ename": "NameError",
     "evalue": "name 'coeff' is not defined",
     "output_type": "error",
     "traceback": [
      "\u001b[1;31m---------------------------------------------------------------------------\u001b[0m",
      "\u001b[1;31mNameError\u001b[0m                                 Traceback (most recent call last)",
      "\u001b[1;32m<ipython-input-2-eddc3865920a>\u001b[0m in \u001b[0;36m<module>\u001b[1;34m()\u001b[0m\n\u001b[1;32m----> 1\u001b[1;33m \u001b[0mcoeff\u001b[0m\u001b[1;33m\u001b[0m\u001b[0m\n\u001b[0m",
      "\u001b[1;31mNameError\u001b[0m: name 'coeff' is not defined"
     ]
    }
   ],
   "source": [
    "coeff"
   ]
  },
  {
   "cell_type": "code",
   "execution_count": null,
   "metadata": {
    "collapsed": true
   },
   "outputs": [],
   "source": []
  }
 ],
 "metadata": {
  "kernelspec": {
   "display_name": "Python [Root]",
   "language": "python",
   "name": "Python [Root]"
  },
  "language_info": {
   "codemirror_mode": {
    "name": "ipython",
    "version": 3
   },
   "file_extension": ".py",
   "mimetype": "text/x-python",
   "name": "python",
   "nbconvert_exporter": "python",
   "pygments_lexer": "ipython3",
   "version": "3.5.2"
  }
 },
 "nbformat": 4,
 "nbformat_minor": 0
}
