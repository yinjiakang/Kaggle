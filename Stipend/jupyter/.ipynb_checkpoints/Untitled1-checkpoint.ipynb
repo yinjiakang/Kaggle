{
 "cells": [
  {
   "cell_type": "code",
   "execution_count": null,
   "metadata": {
    "collapsed": true
   },
   "outputs": [],
   "source": [
    "# %load ../src/main.py\n",
    "import pandas as pd\n",
    "import numpy as np\n",
    "import xgboost as xgb\n",
    "from sklearn import preprocessing\n",
    "from collections import Counter\n",
    "from model import *\n",
    "\n",
    "\n",
    "config = {\n",
    "    'round' : 200,\n",
    "    'random_seed' : 1218,\n",
    "    'fold' : 5\n",
    "}\n",
    "\n",
    "xgb_param = {\n",
    "    'booster': 'gbtree',\n",
    "    'objective' : 'multi:softmax',\n",
    "    'num_class' : 4,\n",
    "    'early_stopping_rounds':100,\n",
    "\n",
    "    'max_depth' : 6,\n",
    "    'eta': 0.1,\n",
    "    'gamma' : 0.1,\n",
    "    'min_child_weight':3,\n",
    "\n",
    "    'subsample':0.7,    \n",
    "\n",
    "    'seed': config['random_seed'],\n",
    "    'nthread': 3,\n",
    "}\n",
    "\n",
    "\n",
    "train_test = pd.read_csv('../data/input/train_test.csv')\n",
    "card = pd.read_csv('../data/input/cardInfo.csv')\n",
    "train_test_score = pd.read_csv('../data/input/train_test_score.csv')\n",
    "train_test = pd.merge(train_test, card, how= 'left', on = 'ID')\n",
    "train_test = pd.merge(train_test, train_test_score, how = 'left', on = 'ID')\n",
    "\n",
    "\n",
    "train = train_test[train_test['MONEY'].notnull()].fillna(-1)\n",
    "test = train_test[train_test['MONEY'].isnull()].fillna(-1)\n",
    "\n",
    "xgbModel(config, xgb_param, train, test)\n",
    "#gbdtModel(config, xgb_param, train, test)\n"
   ]
  },
  {
   "cell_type": "code",
   "execution_count": null,
   "metadata": {
    "collapsed": true
   },
   "outputs": [],
   "source": []
  }
 ],
 "metadata": {
  "kernelspec": {
   "display_name": "Python [Root]",
   "language": "python",
   "name": "Python [Root]"
  },
  "language_info": {
   "codemirror_mode": {
    "name": "ipython",
    "version": 3
   },
   "file_extension": ".py",
   "mimetype": "text/x-python",
   "name": "python",
   "nbconvert_exporter": "python",
   "pygments_lexer": "ipython3",
   "version": "3.5.2"
  }
 },
 "nbformat": 4,
 "nbformat_minor": 0
}
