{
 "cells": [
  {
   "cell_type": "code",
   "execution_count": 22,
   "metadata": {
    "collapsed": false
   },
   "outputs": [
    {
     "data": {
      "text/html": [
       "<div>\n",
       "<table border=\"1\" class=\"dataframe\">\n",
       "  <thead>\n",
       "    <tr style=\"text-align: right;\">\n",
       "      <th></th>\n",
       "      <th>ID</th>\n",
       "    </tr>\n",
       "  </thead>\n",
       "  <tbody>\n",
       "    <tr>\n",
       "      <th>count</th>\n",
       "      <td>227328.000000</td>\n",
       "    </tr>\n",
       "    <tr>\n",
       "      <th>mean</th>\n",
       "      <td>14763.049211</td>\n",
       "    </tr>\n",
       "    <tr>\n",
       "      <th>std</th>\n",
       "      <td>8447.314972</td>\n",
       "    </tr>\n",
       "    <tr>\n",
       "      <th>min</th>\n",
       "      <td>11.000000</td>\n",
       "    </tr>\n",
       "    <tr>\n",
       "      <th>25%</th>\n",
       "      <td>7724.000000</td>\n",
       "    </tr>\n",
       "    <tr>\n",
       "      <th>50%</th>\n",
       "      <td>14537.000000</td>\n",
       "    </tr>\n",
       "    <tr>\n",
       "      <th>75%</th>\n",
       "      <td>20544.000000</td>\n",
       "    </tr>\n",
       "    <tr>\n",
       "      <th>max</th>\n",
       "      <td>32643.000000</td>\n",
       "    </tr>\n",
       "  </tbody>\n",
       "</table>\n",
       "</div>"
      ],
      "text/plain": [
       "                  ID\n",
       "count  227328.000000\n",
       "mean    14763.049211\n",
       "std      8447.314972\n",
       "min        11.000000\n",
       "25%      7724.000000\n",
       "50%     14537.000000\n",
       "75%     20544.000000\n",
       "max     32643.000000"
      ]
     },
     "execution_count": 22,
     "metadata": {},
     "output_type": "execute_result"
    }
   ],
   "source": [
    "#-*- coding: utf-8 -*-\n",
    "import numpy as np\n",
    "import pandas as pd\n",
    "%matplotlib inline\n",
    "import matplotlib.pyplot as plt\n",
    "import matplotlib as mpl\n",
    "import seaborn as sns\n",
    "\n",
    "mpl.rcParams['font.sans-serif'] = ['FangSong'] # 指定默认字体\n",
    "mpl.rcParams['axes.unicode_minus'] = False\n",
    "\n",
    "borrowname = ['ID', 'BORROW_DATE', 'BORROW_BOOKNAME', 'BORROW_BOOKID']\n",
    "#borrow_train = pd.read_csv(\"../data/train/borrow_train.txt\", names= borrowname).fillna(-1)\n",
    "borrow_train = pd.read_csv(\"../data/train/borrow_traintest.txt\", names= borrowname)\n",
    "#borrow_train.info()\n",
    "borrow_train.describe()"
   ]
  },
  {
   "cell_type": "code",
   "execution_count": 16,
   "metadata": {
    "collapsed": false
   },
   "outputs": [
    {
     "data": {
      "text/html": [
       "<div>\n",
       "<table border=\"1\" class=\"dataframe\">\n",
       "  <thead>\n",
       "    <tr style=\"text-align: right;\">\n",
       "      <th></th>\n",
       "      <th>ID</th>\n",
       "      <th>BORROW_DATE</th>\n",
       "      <th>BORROW_BOOKNAME</th>\n",
       "      <th>BORROW_BOOKID</th>\n",
       "    </tr>\n",
       "  </thead>\n",
       "  <tbody>\n",
       "    <tr>\n",
       "      <th>0</th>\n",
       "      <td>9708</td>\n",
       "      <td>2014/2/25</td>\n",
       "      <td>我的英语日记 wo de ying yu ri ji / (韩)南银英著  (韩)卢炫廷插图</td>\n",
       "      <td>H315 502</td>\n",
       "    </tr>\n",
       "    <tr>\n",
       "      <th>1</th>\n",
       "      <td>6956</td>\n",
       "      <td>2013/10/27</td>\n",
       "      <td>解读联想思维 jie du lian xiang si wei : 联想教父柳传志</td>\n",
       "      <td>K825.38=76 547</td>\n",
       "    </tr>\n",
       "    <tr>\n",
       "      <th>2</th>\n",
       "      <td>23939</td>\n",
       "      <td>2015/3/8</td>\n",
       "      <td>电路分析 dian lu fen xi  刘健主编</td>\n",
       "      <td>TM133-43 56</td>\n",
       "    </tr>\n",
       "    <tr>\n",
       "      <th>3</th>\n",
       "      <td>22047</td>\n",
       "      <td>2014/12/29</td>\n",
       "      <td>现代物流学 xian dai wu liu xue = Contemporary logis...</td>\n",
       "      <td>F252 161</td>\n",
       "    </tr>\n",
       "    <tr>\n",
       "      <th>4</th>\n",
       "      <td>9076</td>\n",
       "      <td>2014/3/28</td>\n",
       "      <td>公司法 gong si fa = = Corporation law / 范健, 王建文著 eng</td>\n",
       "      <td>NaN</td>\n",
       "    </tr>\n",
       "  </tbody>\n",
       "</table>\n",
       "</div>"
      ],
      "text/plain": [
       "      ID BORROW_DATE                                    BORROW_BOOKNAME  \\\n",
       "0   9708   2014/2/25     我的英语日记 wo de ying yu ri ji / (韩)南银英著  (韩)卢炫廷插图   \n",
       "1   6956  2013/10/27          解读联想思维 jie du lian xiang si wei : 联想教父柳传志   \n",
       "2  23939    2015/3/8                          电路分析 dian lu fen xi  刘健主编   \n",
       "3  22047  2014/12/29  现代物流学 xian dai wu liu xue = Contemporary logis...   \n",
       "4   9076   2014/3/28  公司法 gong si fa = = Corporation law / 范健, 王建文著 eng   \n",
       "\n",
       "    BORROW_BOOKID  \n",
       "0        H315 502  \n",
       "1  K825.38=76 547  \n",
       "2     TM133-43 56  \n",
       "3        F252 161  \n",
       "4             NaN  "
      ]
     },
     "execution_count": 16,
     "metadata": {},
     "output_type": "execute_result"
    }
   ],
   "source": [
    "borrow_train.head(5)"
   ]
  },
  {
   "cell_type": "code",
   "execution_count": 17,
   "metadata": {
    "collapsed": false
   },
   "outputs": [
    {
     "data": {
      "text/html": [
       "<div>\n",
       "<table border=\"1\" class=\"dataframe\">\n",
       "  <thead>\n",
       "    <tr style=\"text-align: right;\">\n",
       "      <th></th>\n",
       "      <th>ID</th>\n",
       "      <th>CARD_MONEY</th>\n",
       "      <th>CARD_SURPLUS</th>\n",
       "    </tr>\n",
       "  </thead>\n",
       "  <tbody>\n",
       "    <tr>\n",
       "      <th>count</th>\n",
       "      <td>1.245556e+07</td>\n",
       "      <td>1.245556e+07</td>\n",
       "      <td>1.245556e+07</td>\n",
       "    </tr>\n",
       "    <tr>\n",
       "      <th>mean</th>\n",
       "      <td>1.424276e+04</td>\n",
       "      <td>7.171715e+00</td>\n",
       "      <td>1.176017e+02</td>\n",
       "    </tr>\n",
       "    <tr>\n",
       "      <th>std</th>\n",
       "      <td>8.728961e+03</td>\n",
       "      <td>2.710605e+01</td>\n",
       "      <td>1.242041e+02</td>\n",
       "    </tr>\n",
       "    <tr>\n",
       "      <th>min</th>\n",
       "      <td>0.000000e+00</td>\n",
       "      <td>-7.000000e+02</td>\n",
       "      <td>0.000000e+00</td>\n",
       "    </tr>\n",
       "    <tr>\n",
       "      <th>25%</th>\n",
       "      <td>6.621000e+03</td>\n",
       "      <td>1.000000e+00</td>\n",
       "      <td>4.120000e+01</td>\n",
       "    </tr>\n",
       "    <tr>\n",
       "      <th>50%</th>\n",
       "      <td>1.393800e+04</td>\n",
       "      <td>3.000000e+00</td>\n",
       "      <td>8.366000e+01</td>\n",
       "    </tr>\n",
       "    <tr>\n",
       "      <th>75%</th>\n",
       "      <td>2.061300e+04</td>\n",
       "      <td>5.300000e+00</td>\n",
       "      <td>1.552600e+02</td>\n",
       "    </tr>\n",
       "    <tr>\n",
       "      <th>max</th>\n",
       "      <td>3.267100e+04</td>\n",
       "      <td>4.407000e+03</td>\n",
       "      <td>4.399840e+03</td>\n",
       "    </tr>\n",
       "  </tbody>\n",
       "</table>\n",
       "</div>"
      ],
      "text/plain": [
       "                 ID    CARD_MONEY  CARD_SURPLUS\n",
       "count  1.245556e+07  1.245556e+07  1.245556e+07\n",
       "mean   1.424276e+04  7.171715e+00  1.176017e+02\n",
       "std    8.728961e+03  2.710605e+01  1.242041e+02\n",
       "min    0.000000e+00 -7.000000e+02  0.000000e+00\n",
       "25%    6.621000e+03  1.000000e+00  4.120000e+01\n",
       "50%    1.393800e+04  3.000000e+00  8.366000e+01\n",
       "75%    2.061300e+04  5.300000e+00  1.552600e+02\n",
       "max    3.267100e+04  4.407000e+03  4.399840e+03"
      ]
     },
     "execution_count": 17,
     "metadata": {},
     "output_type": "execute_result"
    }
   ],
   "source": [
    "cardname = ['ID', 'CARD_CAT', 'CARD_LOCID', 'CARD_LOC', 'CARD_TIME', 'CARD_MONEY', 'CARD_SURPLUS']\n",
    "card_train = pd.read_csv(\"../data/train/card_train.txt\", names= cardname)\n",
    "#card_train.info()\n",
    "card_train.describe()"
   ]
  },
  {
   "cell_type": "code",
   "execution_count": 18,
   "metadata": {
    "collapsed": false
   },
   "outputs": [
    {
     "data": {
      "text/plain": [
       "array(['淋浴', '开水', '其他', '洗衣房', '文印中心', '教务处', '图书馆', '食堂', '校车', nan,\n",
       "       '超市', '校医院'], dtype=object)"
      ]
     },
     "execution_count": 18,
     "metadata": {},
     "output_type": "execute_result"
    }
   ],
   "source": [
    "card_train['CARD_LOC'].unique()"
   ]
  },
  {
   "cell_type": "code",
   "execution_count": 23,
   "metadata": {
    "collapsed": false
   },
   "outputs": [
    {
     "data": {
      "image/png": "[encoded data removed]",
      "text/plain": [
       "<matplotlib.figure.Figure at 0x4f3a32b668>"
      ]
     },
     "metadata": {},
     "output_type": "display_data"
    }
   ],
   "source": [
    "\n",
    "fig = plt.figure()\n",
    "fig.set(alpha = 0.2)\n",
    "\n",
    "plt.subplot2grid((2,2),(0,0))\n",
    "card_train.CARD_LOC.value_counts().plot(kind='bar')# 柱状图 \n",
    "plt.title(u'消费类型') # 标题\n",
    "plt.ylabel(u'次数')\n",
    "\n",
    "plt.show()"
   ]
  },
  {
   "cell_type": "code",
   "execution_count": null,
   "metadata": {
    "collapsed": true
   },
   "outputs": [],
   "source": []
  }
 ],
 "metadata": {
  "anaconda-cloud": {},
  "kernelspec": {
   "display_name": "Python [Root]",
   "language": "python",
   "name": "Python [Root]"
  },
  "language_info": {
   "codemirror_mode": {
    "name": "ipython",
    "version": 3
   },
   "file_extension": ".py",
   "mimetype": "text/x-python",
   "name": "python",
   "nbconvert_exporter": "python",
   "pygments_lexer": "ipython3",
   "version": "3.5.2"
  }
 },
 "nbformat": 4,
 "nbformat_minor": 0
}
